{
 "cells": [
  {
   "cell_type": "code",
   "execution_count": null,
   "metadata": {},
   "outputs": [],
   "source": [
    "#Listas \n",
    "lista = [1, 2, 3, 4, 5]\n",
    "lista.append(6)  #Añadir elemento\n",
    "lista.remove(3)  #Eliminar elemento\n",
    "lista[2] = 10  #Modificar elemento\n",
    "print(lista[1])  #Acceder a elemento por índice\n",
    "\n",
    "#Tuplas\n",
    "tupla = (1, 2, 3, 4, 5)\n",
    "# tupla.append(6)  #Error: las tuplas son inmutables\n",
    "# tupla.remove(3)  #Error: las tuplas son inmutables\n",
    "# tupla[2] = 10  #Error: las tuplas son inmutables\n",
    "print(tupla[1])  #Acceder a elemento por índice\n",
    "\n",
    "#Sets\n",
    "conjunto = {1, 2, 3, 4, 5}\n",
    "conjunto.add(6)  #Añadir elemento\n",
    "conjunto.remove(3)  #Eliminar elemento\n",
    "print(conjunto.isdisjoint({6, 7}))  #Comprobar si hay elementos en común con otro set\n",
    "\n",
    "#Diccionarios\n",
    "diccionario = {\"clave1\": 1, \"clave2\": 2, \"clave3\": 3}\n",
    "diccionario[\"clave4\"] = 4  #Añadir par clave-valor\n",
    "del diccionario[\"clave2\"]  #Eliminar par clave-valor\n",
    "print(diccionario[\"clave1\"])  #Acceder a valor por clave"
   ]
  },
  {
   "cell_type": "markdown",
   "metadata": {},
   "source": [
    "En resumen:\n",
    "\n",
    "- Las listas son la estructura de datos más versátil, pero las tuplas son más eficientes para almacenar datos que no necesitan ser modificados.\n",
    "- Los sets son útiles para eliminar duplicados y realizar operaciones de conjuntos.\n",
    "- Los diccionarios son útiles para almacenar datos en pares clave-valor y acceder a ellos por clave."
   ]
  },
  {
   "cell_type": "markdown",
   "metadata": {},
   "source": [
    "## Listas:\n",
    "\n",
    "**Definición:** Las listas son colecciones ordenadas y mutables de elementos.\n",
    "\n",
    "**Características:**\n",
    "- Permiten almacenar diferentes tipos de datos (números, cadenas, booleanos, etc.).\n",
    "- Se pueden modificar después de su creación (añadir, eliminar, modificar elementos).\n",
    "- Se accede a los elementos por índice (posición).\n",
    "\n",
    "**Usos en análisis de datos:**\n",
    "- Almacenar listas de datos, como nombres de pacientes, fechas de experimentos o valores de mediciones.\n",
    "- Realizar operaciones básicas de análisis de datos, como calcular promedios, medianas o desviaciones estándar.\n",
    "- Manipular datos para prepararlos para el análisis, como filtrar, ordenar o agrupar datos."
   ]
  },
  {
   "cell_type": "code",
   "execution_count": 3,
   "metadata": {},
   "outputs": [
    {
     "name": "stdout",
     "output_type": "stream",
     "text": [
      "La edad promedio de los pacientes es: 26.25\n"
     ]
    }
   ],
   "source": [
    "#Lista de nombres de pacientes\n",
    "nombres = [\"Ana\", \"Juan\", \"María\", \"Pedro\"]\n",
    "\n",
    "#Calcular la edad promedio de los pacientes\n",
    "edades = [25, 30, 22, 28]\n",
    "promedio_edad = sum(edades) / len(edades)\n",
    "print(f\"La edad promedio de los pacientes es: {promedio_edad}\")"
   ]
  },
  {
   "cell_type": "markdown",
   "metadata": {},
   "source": [
    "## Tuplas:\n",
    "\n",
    "**Definición:** Las tuplas son colecciones ordenadas e inmutables de elementos.\n",
    "\n",
    "**Características:**\n",
    "- Permiten almacenar diferentes tipos de datos (números, cadenas, booleanos, etc.).\n",
    "- No se pueden modificar después de su creación. 🔒\n",
    "- Se accede a los elementos por índice (posición).\n",
    "\n",
    "**Usos en análisis de datos:**\n",
    "- Almacenar datos que no necesitan ser modificados, como constantes, categorías o configuraciones.\n",
    "- Usar como claves en diccionarios para indexar datos.\n",
    "- Pasar datos como argumentos a funciones."
   ]
  },
  {
   "cell_type": "code",
   "execution_count": 4,
   "metadata": {},
   "outputs": [
    {
     "name": "stdout",
     "output_type": "stream",
     "text": [
      "El producto 'mesa' pertenece a la categoría 'Hogar'.\n"
     ]
    }
   ],
   "source": [
    "#Tupla de categorías de productos\n",
    "categorias = (\"Electrónica\", \"Ropa\", \"Hogar\")\n",
    "\n",
    "#Diccionario de productos con categorías como claves\n",
    "productos = {\n",
    "    \"laptop\": categorias[0],\n",
    "    \"camiseta\": categorias[1],\n",
    "    \"mesa\": categorias[2]\n",
    "}\n",
    "\n",
    "#Acceder a la categoría de un producto\n",
    "producto = \"mesa\"\n",
    "categoria_producto = productos[producto]\n",
    "print(f\"El producto '{producto}' pertenece a la categoría '{categoria_producto}'.\")\n"
   ]
  },
  {
   "cell_type": "markdown",
   "metadata": {},
   "source": [
    "## Sets:\n",
    "\n",
    "**Definición:** Los sets son colecciones no ordenadas y mutables de elementos únicos.\n",
    "\n",
    "**Características:**\n",
    "- Solo permiten almacenar elementos \"hashable\" (cadenas, números, etc.).\n",
    "- Eliminan automáticamente los duplicados.\n",
    "- Se realizan operaciones de conjuntos, como intersección, unión y diferencia.\n",
    "\n",
    "**Usos en análisis de datos:**\n",
    "- Eliminar duplicados de una lista de datos.\n",
    "- Identificar elementos únicos en un conjunto de datos.\n",
    "- Encontrar relaciones entre diferentes conjuntos de datos."
   ]
  },
  {
   "cell_type": "code",
   "execution_count": 6,
   "metadata": {},
   "outputs": [
    {
     "name": "stdout",
     "output_type": "stream",
     "text": [
      "Número de pacientes únicos: 5\n"
     ]
    }
   ],
   "source": [
    "#Lista de identificadores de pacientes con valores duplicados\n",
    "ids_pacientes = [1, 2, 3, 1, 4, 2, 5]\n",
    "\n",
    "#Convertir la lista a un set para eliminar duplicados\n",
    "pacientes_unicos = set(ids_pacientes)\n",
    "\n",
    "#Contar el número de pacientes únicos\n",
    "numero_pacientes = len(pacientes_unicos)\n",
    "print(f\"Número de pacientes únicos:\", numero_pacientes)"
   ]
  },
  {
   "cell_type": "markdown",
   "metadata": {},
   "source": [
    "## Diccionarios:\n",
    "\n",
    "**Definición:** Los diccionarios son colecciones no ordenadas y mutables de pares clave-valor.\n",
    "\n",
    "**Características:**\n",
    "- Las claves deben ser únicas y \"hashable\" (cadenas, números, etc.).\n",
    "- Los valores pueden ser de cualquier tipo.\n",
    "- Se accede a los valores por clave.\n",
    "\n",
    "**Usos en análisis de datos:**\n",
    "- Almacenar datos en pares clave-valor, como información de pacientes, resultados de experimentos o configuraciones de análisis.\n",
    "- Asociar datos relacionados entre sí.\n",
    "- Realizar operaciones de búsqueda y filtrado de datos por clave."
   ]
  },
  {
   "cell_type": "code",
   "execution_count": 9,
   "metadata": {},
   "outputs": [
    {
     "name": "stdout",
     "output_type": "stream",
     "text": [
      "El paciente con ID 1 se llama Ana López.\n"
     ]
    }
   ],
   "source": [
    "#Diccionario de información de pacientes\n",
    "pacientes = {\n",
    "    \"id\": 1,\n",
    "    \"nombre\": \"Ana\",\n",
    "    \"apellido\": \"López\",\n",
    "    \"edad\": 25,\n",
    "    \"enfermedad\": \"Diabetes\"\n",
    "}\n",
    "\n",
    "#Acceder a la información de un paciente por clave\n",
    "id_paciente = 1\n",
    "nombre_paciente = pacientes[\"nombre\"]\n",
    "apellido_paciente = pacientes[\"apellido\"]\n",
    "print(f\"El paciente con ID {id_paciente} se llama {nombre_paciente} {apellido_paciente}.\")\n"
   ]
  }
 ],
 "metadata": {
  "kernelspec": {
   "display_name": "Python 3",
   "language": "python",
   "name": "python3"
  },
  "language_info": {
   "codemirror_mode": {
    "name": "ipython",
    "version": 3
   },
   "file_extension": ".py",
   "mimetype": "text/x-python",
   "name": "python",
   "nbconvert_exporter": "python",
   "pygments_lexer": "ipython3",
   "version": "3.12.2"
  }
 },
 "nbformat": 4,
 "nbformat_minor": 2
}
