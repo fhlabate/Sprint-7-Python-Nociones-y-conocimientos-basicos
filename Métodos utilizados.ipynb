{
 "cells": [
  {
   "cell_type": "markdown",
   "metadata": {},
   "source": [
    ".strip() ➡️ quitar espacios\n",
    "https://www.w3schools.com/python/ref_string_strip.asp\n",
    "\n",
    ".upper() ➡️ convertir toda la cadena a mayúscula\n",
    "https://www.w3schools.com/python/ref_string_upper.asp\n",
    "\n",
    ".lower() ➡️ convertir toda la cadena a minúsucla\n",
    "https://www.w3schools.com/python/ref_string_lower.asp \n",
    "\n",
    ".split() ➡️ divide una cadena de texto en una lista de items (palabras)\n",
    "https://www.w3schools.com/python/ref_string_split.asp \n",
    "\n",
    ".items() ➡️ devuelve el par clave-valor de un diccionario en una tupla\n",
    "https://www.w3schools.com/python/ref_dictionary_items.asp"
   ]
  }
 ],
 "metadata": {
  "language_info": {
   "name": "python"
  }
 },
 "nbformat": 4,
 "nbformat_minor": 2
}
