{
 "cells": [
  {
   "cell_type": "markdown",
   "metadata": {},
   "source": [
    " La distinción entre parámetro y argumento en Python es importante para comprender cómo funcionan las funciones.\n",
    "\n",
    "### Parámetro:\n",
    "\n",
    "- Es la variable que se define dentro de la declaración de la función.\n",
    "- Representa el dato que la función espera recibir cuando se la llame.\n",
    "- Se escribe entre paréntesis después del nombre de la función."
   ]
  },
  {
   "cell_type": "code",
   "execution_count": 2,
   "metadata": {},
   "outputs": [],
   "source": [
    "#Función \"saludar\" cuyo parámetro es (nombre) el cual la función espera recibir.\n",
    "def saludar(nombre):\n",
    "  print(f\"¡Hola, {nombre}!\")"
   ]
  },
  {
   "cell_type": "markdown",
   "metadata": {},
   "source": [
    "### Argumento:\n",
    "\n",
    "- Es el valor que se pasa a la función cuando se la llama.\n",
    "- Se asocia con el parámetro correspondiente dentro de la función.\n",
    "- Se escribe entre paréntesis cuando se llama a la función."
   ]
  },
  {
   "cell_type": "code",
   "execution_count": 3,
   "metadata": {},
   "outputs": [
    {
     "name": "stdout",
     "output_type": "stream",
     "text": [
      "¡Hola, Ana!\n"
     ]
    }
   ],
   "source": [
    "saludar(\"Ana\")  # Se pasa el argumento \"Ana\" a la función"
   ]
  },
  {
   "cell_type": "code",
   "execution_count": 13,
   "metadata": {},
   "outputs": [
    {
     "name": "stdout",
     "output_type": "stream",
     "text": [
      "Ana López ha llegado a 12 faltas, darle un seguimiento específico\n"
     ]
    }
   ],
   "source": [
    "#Ejemplo de que está claro:\n",
    "def contador_de_faltas(nombre,faltas):\n",
    "    if faltas > 13:\n",
    "        print(f\"{nombre} ha llegado a {faltas} faltas, no podrá continuar sus estudios\")\n",
    "    elif faltas <= 13 and faltas >=10:\n",
    "        print(f\"{nombre} ha llegado a {faltas} faltas, darle un seguimiento específico\")       \n",
    "    elif faltas <=9  and faltas >=5:\n",
    "        print(f\"{nombre} ha llegado a {faltas} faltas, darle un seguimiento\")\n",
    "    elif faltas <=4  and faltas >=3:\n",
    "        print(f\"{nombre} ha llegado a {faltas} faltas, enviarle un correo de aviso\")\n",
    "    else:\n",
    "        print(f\"{nombre} se encuentra con solo {faltas} faltas.\")\n",
    "\n",
    "lista_de_asistencia = {\n",
    "    \"id\": 1,\n",
    "    \"nombre\": \"Ana López\",\n",
    "    \"faltas\": 12\n",
    "}\n",
    "\n",
    "nombre = lista_de_asistencia[\"nombre\"]\n",
    "faltas = lista_de_asistencia[\"faltas\"]\n",
    "contador_de_faltas(nombre, faltas)\n"
   ]
  }
 ],
 "metadata": {
  "kernelspec": {
   "display_name": "Python 3",
   "language": "python",
   "name": "python3"
  },
  "language_info": {
   "codemirror_mode": {
    "name": "ipython",
    "version": 3
   },
   "file_extension": ".py",
   "mimetype": "text/x-python",
   "name": "python",
   "nbconvert_exporter": "python",
   "pygments_lexer": "ipython3",
   "version": "3.12.2"
  }
 },
 "nbformat": 4,
 "nbformat_minor": 2
}
